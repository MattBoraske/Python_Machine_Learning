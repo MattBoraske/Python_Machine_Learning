{
  "nbformat": 4,
  "nbformat_minor": 0,
  "metadata": {
    "colab": {
      "provenance": [],
      "toc_visible": true
    },
    "kernelspec": {
      "name": "python3",
      "display_name": "Python 3"
    },
    "language_info": {
      "name": "python"
    }
  },
  "cells": [
    {
      "cell_type": "markdown",
      "source": [
        " # ***Boston Median Home Value Neural Network Regression Predictive Model*** \n",
        " # ***Created by Matt Boraske on 12/16/22***\n",
        " \n",
        " <br>\n",
        "\n",
        " # The Boston house-price data of Harrison, D. and Rubinfeld, D.L. 'Hedonic prices and the demand for clean air', J. Environ. Economics & Management, vol.5, 81-102, 1978.   Used in Belsley, Kuh & Welsch, 'Regression diagnostics ...', Wiley, 1980.   N.B. Various transformations are used in the table on pages 244-261 of the latter.\n",
        "\n",
        "<br>\n",
        "\n",
        " ## This is a dataset taken from the StatLib library which is maintained at Carnegie Mellon University. It is publically available at http://lib.stat.cmu.edu/datasets/boston\n",
        "\n",
        "<br>\n",
        "\n",
        " ## **Training variables in order:**\n",
        " - CRIM     per capita crime rate by town\n",
        " - ZN       proportion of residential land zoned for lots over 25,000 sq.ft.\n",
        " - INDUS    proportion of non-retail business acres per town\n",
        " - CHAS     Charles River dummy variable (= 1 if tract bounds river; 0 otherwise)\n",
        " - NOX      nitric oxides concentration (parts per 10 million)\n",
        " - RM       average number of rooms per dwelling\n",
        " - AGE      proportion of owner-occupied units built prior to 1940\n",
        " - DIS      weighted distances to five Boston employment centres\n",
        " - RAD      index of accessibility to radial highways\n",
        " - TAX      full-value property-tax rate per $10,000\n",
        " \n",
        " - PTRATIO  pupil-teacher ratio by town\n",
        " - B        1000(Bk - 0.63)^2 where Bk is the proportion of blacks by town\n",
        " - LSTAT    % lower status of the population\n",
        "\n",
        "\n",
        " ## **Testing variable that the model predicts**\n",
        " - MEDV     Median value of owner-occupied homes in $1000's\n",
        "\n",
        " <br>"
      ],
      "metadata": {
        "id": "VKf_ZGo_PmTW"
      }
    },
    {
      "cell_type": "markdown",
      "source": [
        "#Import libraries"
      ],
      "metadata": {
        "id": "QqlVYbt5anzi"
      }
    },
    {
      "cell_type": "code",
      "execution_count": 104,
      "metadata": {
        "id": "uTusnD01Oi7D"
      },
      "outputs": [],
      "source": [
        "import tensorflow as tf\n",
        "import pandas as pd\n",
        "import matplotlib.pyplot as plt\n",
        "from sklearn.compose import make_column_transformer\n",
        "from sklearn.preprocessing import MinMaxScaler, OneHotEncoder\n",
        "from google.colab import files"
      ]
    },
    {
      "cell_type": "markdown",
      "source": [
        "#Import data"
      ],
      "metadata": {
        "id": "bz_gI11zasI6"
      }
    },
    {
      "cell_type": "code",
      "source": [
        "(x_train, y_train), (x_test, y_test) = tf.keras.datasets.boston_housing.load_data(\n",
        "    path='boston_housing.npz', test_split=0.2, seed=113\n",
        ")\n",
        "\n",
        "print(x_train.shape)\n",
        "print(y_train.shape)\n",
        "print(\"\\n\")\n",
        "print(x_test.shape)\n",
        "print(y_test.shape)\n",
        "\n",
        "trainingFeatures = pd.DataFrame(x_train)\n",
        "print(trainingFeatures.head())\n",
        "\n",
        "print(\"\\n\")\n",
        "\n",
        "trainingLabels = pd.DataFrame(y_train)\n",
        "print(trainingLabels.head())"
      ],
      "metadata": {
        "colab": {
          "base_uri": "https://localhost:8080/"
        },
        "id": "-cjQUA2hamGo",
        "outputId": "921860f3-8e6b-42c7-fcfb-13f5f63b24c7"
      },
      "execution_count": 105,
      "outputs": [
        {
          "output_type": "stream",
          "name": "stdout",
          "text": [
            "(404, 13)\n",
            "(404,)\n",
            "\n",
            "\n",
            "(102, 13)\n",
            "(102,)\n",
            "        0     1      2    3      4      5      6       7     8      9     10  \\\n",
            "0  1.23247   0.0   8.14  0.0  0.538  6.142   91.7  3.9769   4.0  307.0  21.0   \n",
            "1  0.02177  82.5   2.03  0.0  0.415  7.610   15.7  6.2700   2.0  348.0  14.7   \n",
            "2  4.89822   0.0  18.10  0.0  0.631  4.970  100.0  1.3325  24.0  666.0  20.2   \n",
            "3  0.03961   0.0   5.19  0.0  0.515  6.037   34.5  5.9853   5.0  224.0  20.2   \n",
            "4  3.69311   0.0  18.10  0.0  0.713  6.376   88.4  2.5671  24.0  666.0  20.2   \n",
            "\n",
            "       11     12  \n",
            "0  396.90  18.72  \n",
            "1  395.38   3.11  \n",
            "2  375.52   3.26  \n",
            "3  396.90   8.01  \n",
            "4  391.43  14.65  \n",
            "\n",
            "\n",
            "      0\n",
            "0  15.2\n",
            "1  42.3\n",
            "2  50.0\n",
            "3  21.1\n",
            "4  17.7\n"
          ]
        }
      ]
    },
    {
      "cell_type": "markdown",
      "source": [
        "#Normalize Data"
      ],
      "metadata": {
        "id": "5yH-MjnsaSjm"
      }
    },
    {
      "cell_type": "code",
      "source": [
        "#instantiate column transformer\n",
        "ct = make_column_transformer(\n",
        "    (MinMaxScaler(), [0, 1, 2, 3, 4, 5, 6, 7, 8, 9, 10, 11, 12]),\n",
        ")\n",
        "\n",
        "#fit column transformer\n",
        "ct.fit(x_train)\n",
        "\n",
        "#create normalized training and testing data\n",
        "x_train_normal = ct.transform(x_train)\n",
        "x_test_normal = ct.transform(x_test)\n",
        "\n",
        "#inspect normalized data\n",
        "trainingData_normalized = pd.DataFrame(x_train_normal)\n",
        "print(trainingData_normalized)\n",
        "\n",
        "testingData_normalized = pd.DataFrame(x_test_normal)\n",
        "print(testingData_normalized)"
      ],
      "metadata": {
        "colab": {
          "base_uri": "https://localhost:8080/"
        },
        "id": "gidbco-LQ0WC",
        "outputId": "239f9162-3221-4d4a-997e-48938d85f4d4"
      },
      "execution_count": 106,
      "outputs": [
        {
          "output_type": "stream",
          "name": "stdout",
          "text": [
            "           0      1         2    3         4         5         6         7   \\\n",
            "0    0.013782  0.000  0.281525  0.0  0.314815  0.499806  0.914521  0.297191   \n",
            "1    0.000174  0.825  0.057551  0.0  0.061728  0.784082  0.131823  0.536537   \n",
            "2    0.054984  0.000  0.646628  0.0  0.506173  0.272851  1.000000  0.021178   \n",
            "3    0.000374  0.000  0.173387  0.0  0.267490  0.479473  0.325438  0.506821   \n",
            "4    0.041439  0.000  0.646628  0.0  0.674897  0.545120  0.880536  0.150041   \n",
            "..        ...    ...       ...  ...       ...       ...       ...       ...   \n",
            "399  0.002399  0.000  0.236437  0.0  0.129630  0.395236  0.608651  0.517509   \n",
            "400  0.001751  0.200  0.238270  0.0  0.162551  0.518784  0.138002  0.344380   \n",
            "401  0.000319  0.350  0.205279  0.0  0.108848  0.478311  0.210093  0.575229   \n",
            "402  0.024085  0.000  0.700880  0.0  1.000000  0.415957  0.984552  0.051520   \n",
            "403  0.000091  0.600  0.090543  0.0  0.032922  0.589272  0.163749  0.531276   \n",
            "\n",
            "           8         9         10        11        12  \n",
            "0    0.130435  0.227533  0.893617  1.000000  0.468819  \n",
            "1    0.043478  0.305927  0.223404  0.996167  0.038079  \n",
            "2    1.000000  0.913958  0.808511  0.946089  0.042219  \n",
            "3    0.173913  0.068834  0.808511  1.000000  0.173289  \n",
            "4    1.000000  0.913958  0.808511  0.986207  0.356512  \n",
            "..        ...       ...       ...       ...       ...  \n",
            "399  0.086957  0.086042  0.563830  1.000000  0.399283  \n",
            "400  0.086957  0.066922  0.638298  1.000000  0.134106  \n",
            "401  0.000000  0.221797  0.457447  0.912628  0.168322  \n",
            "402  0.173913  0.411090  0.223404  0.659716  0.387969  \n",
            "403  0.000000  0.147228  0.319149  0.949065  0.073124  \n",
            "\n",
            "[404 rows x 13 columns]\n",
            "           0    1         2    3         4         5         6         7   \\\n",
            "0    0.203196  0.0  0.646628  0.0  0.604938  0.556352  1.000000  0.073596   \n",
            "1    0.001315  0.0  0.350073  0.0  0.333333  0.455461  0.926880  0.127736   \n",
            "2    0.000547  0.0  0.173387  0.0  0.267490  0.469404  0.437693  0.384377   \n",
            "3    0.014242  0.0  0.700880  1.0  0.452675  0.520720  0.923790  0.069807   \n",
            "4    0.000733  0.0  0.147727  0.0  0.131687  0.495740  0.555098  0.273258   \n",
            "..        ...  ...       ...  ...       ...       ...       ...       ...   \n",
            "97   0.038979  0.0  0.646628  1.0  0.685185  1.010651  0.823893  0.080902   \n",
            "98   0.000816  0.0  0.453446  0.0  0.106996  0.525174  0.031926  0.325853   \n",
            "99   0.020540  0.0  0.700880  1.0  0.452675  0.821263  0.981462  0.095097   \n",
            "100  0.003954  0.0  0.210411  1.0  0.251029  0.656468  0.881565  0.180791   \n",
            "101  0.032794  0.0  0.700880  0.0  0.452675  0.491867  0.927909  0.120430   \n",
            "\n",
            "           8         9         10        11        12  \n",
            "0    1.000000  0.913958  0.808511  0.067906  0.753863  \n",
            "1    0.217391  0.466539  0.553191  0.995083  0.399558  \n",
            "2    0.173913  0.068834  0.808511  1.000000  0.221026  \n",
            "3    0.173913  0.411090  0.223404  0.853800  0.104029  \n",
            "4    0.086957  0.112811  0.627660  0.995587  0.185155  \n",
            "..        ...       ...       ...       ...       ...  \n",
            "97   1.000000  0.913958  0.808511  0.893212  0.098234  \n",
            "98   0.173913  0.401530  0.648936  0.995007  0.139349  \n",
            "99   0.173913  0.411090  0.223404  0.981618  0.005243  \n",
            "100  0.304348  0.227533  0.510638  0.986888  0.220199  \n",
            "101  0.173913  0.411090  0.223404  0.604771  0.222958  \n",
            "\n",
            "[102 rows x 13 columns]\n"
          ]
        }
      ]
    },
    {
      "cell_type": "markdown",
      "source": [
        "# Create and Fit Model"
      ],
      "metadata": {
        "id": "EhUnvo9bcdvS"
      }
    },
    {
      "cell_type": "code",
      "source": [
        "#set random seed\n",
        "tf.random.set_seed(42)\n",
        "\n",
        "#build the model (3 layers -- 100, 10, and 1 unit(s))\n",
        "boston_housing_model = tf.keras.Sequential([\n",
        "    tf.keras.layers.Dense(100),\n",
        "    tf.keras.layers.Dense(10),\n",
        "    tf.keras.layers.Dense(1)\n",
        "])\n",
        "\n",
        "#compile the model\n",
        "boston_housing_model.compile(\n",
        "    loss = tf.keras.losses.mae,\n",
        "    optimizer = tf.keras.optimizers.Adam(0.025),\n",
        "    metrics=['mae']\n",
        ")\n",
        "\n",
        "#fit model on 250 epochs\n",
        "history = boston_housing_model.fit(x_train_normal, y_train, epochs = 250, verbose = 0)"
      ],
      "metadata": {
        "id": "tLreXqnmSSQW"
      },
      "execution_count": 107,
      "outputs": []
    },
    {
      "cell_type": "markdown",
      "source": [
        "# Evaluate Model"
      ],
      "metadata": {
        "id": "ZwSpOwLvch5m"
      }
    },
    {
      "cell_type": "code",
      "source": [
        "boston_housing_model_loss, boston_housing_model_mae = boston_housing_model.evaluate(x_test_normal, y_test)"
      ],
      "metadata": {
        "colab": {
          "base_uri": "https://localhost:8080/"
        },
        "id": "yaTUOVTuTIFk",
        "outputId": "8c16aba2-b2f9-4079-ec0b-955b6bf4272c"
      },
      "execution_count": 108,
      "outputs": [
        {
          "output_type": "stream",
          "name": "stdout",
          "text": [
            "4/4 [==============================] - 0s 3ms/step - loss: 3.1079 - mae: 3.1079\n"
          ]
        }
      ]
    },
    {
      "cell_type": "markdown",
      "source": [
        "# Model Loss Plot"
      ],
      "metadata": {
        "id": "djQjaBSaczmJ"
      }
    },
    {
      "cell_type": "code",
      "source": [
        "pd.DataFrame(history.history).plot()\n",
        "plt.ylabel(\"loss\")\n",
        "plt.xlabel(\"epochs\");"
      ],
      "metadata": {
        "colab": {
          "base_uri": "https://localhost:8080/",
          "height": 279
        },
        "id": "YjlmEitCTa8z",
        "outputId": "411aabbb-fa74-4e2e-93bb-6806aeef79f5"
      },
      "execution_count": 109,
      "outputs": [
        {
          "output_type": "display_data",
          "data": {
            "text/plain": [
              "<Figure size 432x288 with 1 Axes>"
            ],
            "image/png": "[encoded data removed]"
          },
          "metadata": {
            "needs_background": "light"
          }
        }
      ]
    },
    {
      "cell_type": "markdown",
      "source": [
        "#Model Predictions"
      ],
      "metadata": {
        "id": "Rye8ZkSKcuMU"
      }
    },
    {
      "cell_type": "code",
      "source": [
        "y_preds = boston_housing_model.predict(x_test_normal)\n",
        "error = y_preds.squeeze() - y_test"
      ],
      "metadata": {
        "colab": {
          "base_uri": "https://localhost:8080/"
        },
        "id": "DI6eUX13Uiwo",
        "outputId": "29242642-f8bb-43f1-925e-6d431ad34b9c"
      },
      "execution_count": 110,
      "outputs": [
        {
          "output_type": "stream",
          "name": "stdout",
          "text": [
            "4/4 [==============================] - 0s 4ms/step\n"
          ]
        }
      ]
    },
    {
      "cell_type": "markdown",
      "source": [
        "#Model Error Plot"
      ],
      "metadata": {
        "id": "wg_OV5Tsc0xt"
      }
    },
    {
      "cell_type": "code",
      "source": [
        "error = y_preds.squeeze() - y_test\n",
        "axis_marks = list(range(1,103))\n",
        "plt.figure(figsize=(10, 7))\n",
        "plt.scatter(axis_marks, error, c=\"b\", label=\"Error\")\n",
        "plt.legend()"
      ],
      "metadata": {
        "colab": {
          "base_uri": "https://localhost:8080/",
          "height": 446
        },
        "id": "Ahgbqm_rVm7D",
        "outputId": "8e43a112-2dca-4f5a-d22c-d99cf01f8825"
      },
      "execution_count": 111,
      "outputs": [
        {
          "output_type": "execute_result",
          "data": {
            "text/plain": [
              "<matplotlib.legend.Legend at 0x7f6a6d7b24c0>"
            ]
          },
          "metadata": {},
          "execution_count": 111
        },
        {
          "output_type": "display_data",
          "data": {
            "text/plain": [
              "<Figure size 720x504 with 1 Axes>"
            ],
            "image/png": "[encoded data removed]"
          },
          "metadata": {
            "needs_background": "light"
          }
        }
      ]
    },
    {
      "cell_type": "markdown",
      "source": [
        "# Save and download model"
      ],
      "metadata": {
        "id": "up0MWnBAc-iv"
      }
    },
    {
      "cell_type": "code",
      "source": [
        "boston_housing_model.save('boston_housing_model.h5')\n",
        "files.download(\"boston_housing_model.h5\")"
      ],
      "metadata": {
        "colab": {
          "base_uri": "https://localhost:8080/",
          "height": 17
        },
        "id": "YwZCr66cZZM5",
        "outputId": "95e932c6-ea25-4796-bc03-cc75ff5a280d"
      },
      "execution_count": 112,
      "outputs": [
        {
          "output_type": "display_data",
          "data": {
            "text/plain": [
              "<IPython.core.display.Javascript object>"
            ],
            "application/javascript": [
              "\n",
              "    async function download(id, filename, size) {\n",
              "      if (!google.colab.kernel.accessAllowed) {\n",
              "        return;\n",
              "      }\n",
              "      const div = document.createElement('div');\n",
              "      const label = document.createElement('label');\n",
              "      label.textContent = `Downloading \"${filename}\": `;\n",
              "      div.appendChild(label);\n",
              "      const progress = document.createElement('progress');\n",
              "      progress.max = size;\n",
              "      div.appendChild(progress);\n",
              "      document.body.appendChild(div);\n",
              "\n",
              "      const buffers = [];\n",
              "      let downloaded = 0;\n",
              "\n",
              "      const channel = await google.colab.kernel.comms.open(id);\n",
              "      // Send a message to notify the kernel that we're ready.\n",
              "      channel.send({})\n",
              "\n",
              "      for await (const message of channel.messages) {\n",
              "        // Send a message to notify the kernel that we're ready.\n",
              "        channel.send({})\n",
              "        if (message.buffers) {\n",
              "          for (const buffer of message.buffers) {\n",
              "            buffers.push(buffer);\n",
              "            downloaded += buffer.byteLength;\n",
              "            progress.value = downloaded;\n",
              "          }\n",
              "        }\n",
              "      }\n",
              "      const blob = new Blob(buffers, {type: 'application/binary'});\n",
              "      const a = document.createElement('a');\n",
              "      a.href = window.URL.createObjectURL(blob);\n",
              "      a.download = filename;\n",
              "      div.appendChild(a);\n",
              "      a.click();\n",
              "      div.remove();\n",
              "    }\n",
              "  "
            ]
          },
          "metadata": {}
        },
        {
          "output_type": "display_data",
          "data": {
            "text/plain": [
              "<IPython.core.display.Javascript object>"
            ],
            "application/javascript": [
              "download(\"download_afb3b25a-5230-4e83-972f-3d73314aad53\", \"boston_housing_model.h5\", 61800)"
            ]
          },
          "metadata": {}
        }
      ]
    }
  ]
}