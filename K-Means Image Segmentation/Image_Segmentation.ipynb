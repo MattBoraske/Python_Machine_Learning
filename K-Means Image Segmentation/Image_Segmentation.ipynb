{
  "nbformat": 4,
  "nbformat_minor": 0,
  "metadata": {
    "colab": {
      "name": "Image_Segmentation.ipynb",
      "provenance": [],
      "collapsed_sections": []
    },
    "kernelspec": {
      "name": "python3",
      "display_name": "Python 3"
    }
  },
  "cells": [
    {
      "cell_type": "markdown",
      "metadata": {
        "id": "I0hHpwemfFGH"
      },
      "source": [
        "###**IMAGE SEGMENTATION TO HOMOGENIZE PIXEL COLORS USING K-MEANS CLUSTERING**\n",
        "####*Author: Matt Boraske*"
      ]
    },
    {
      "cell_type": "markdown",
      "metadata": {
        "id": "X7VUmcI5Rq8t"
      },
      "source": [
        "Load Input Image"
      ]
    },
    {
      "cell_type": "code",
      "metadata": {
        "id": "OCi1-EhDIgfF",
        "colab": {
          "resources": {
            "http://localhost:8080/nbextensions/google.colab/files.js": {
              "data": "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",
              "ok": true,
              "headers": [
                [
                  "content-type",
                  "application/javascript"
                ]
              ],
              "status": 200,
              "status_text": ""
            }
          },
          "base_uri": "https://localhost:8080/",
          "height": 90
        },
        "outputId": "5a651320-822c-4f7e-f884-e5dfc424922e"
      },
      "source": [
        "# Input picture.\n",
        "# WARNING - THIS CODE ONLY WORKS FOR PNG IMAGES\n",
        "from google.colab import files\n",
        "\n",
        "uploaded = files.upload()\n",
        "\n",
        "for fn in uploaded.keys():\n",
        "  print('User uploaded file \"{name}\" with length {length} bytes'.format(\n",
        "      name=fn, length=len(uploaded[fn])))\n"
      ],
      "execution_count": 18,
      "outputs": [
        {
          "output_type": "display_data",
          "data": {
            "text/plain": [
              "<IPython.core.display.HTML object>"
            ],
            "text/html": [
              "\n",
              "     <input type=\"file\" id=\"files-ca648dcd-a988-4b09-9503-483c9b98ee7f\" name=\"files[]\" multiple disabled\n",
              "        style=\"border:none\" />\n",
              "     <output id=\"result-ca648dcd-a988-4b09-9503-483c9b98ee7f\">\n",
              "      Upload widget is only available when the cell has been executed in the\n",
              "      current browser session. Please rerun this cell to enable.\n",
              "      </output>\n",
              "      <script src=\"/nbextensions/google.colab/files.js\"></script> "
            ]
          },
          "metadata": {}
        },
        {
          "output_type": "stream",
          "name": "stdout",
          "text": [
            "Saving embiid.png to embiid (2).png\n",
            "User uploaded file \"embiid.png\" with length 823324 bytes\n"
          ]
        }
      ]
    },
    {
      "cell_type": "markdown",
      "metadata": {
        "id": "96RuNAFrRxTR"
      },
      "source": [
        "Image Processing Functions"
      ]
    },
    {
      "cell_type": "code",
      "metadata": {
        "id": "NONgULhhRi5F"
      },
      "source": [
        "from __future__ import division\n",
        "import warnings\n",
        "warnings.simplefilter(action = \"ignore\", category = FutureWarning)\n",
        "import numpy as np\n",
        "import scipy as sp\n",
        "from matplotlib import image\n",
        "import matplotlib.pyplot as plt\n",
        "import matplotlib.cm as cm\n",
        "\n",
        "\"\"\"Helper image-processing code.\"\"\"\n",
        "def image_to_matrix(image_file, grays=False):\n",
        "    \"\"\"\n",
        "    Convert .png image to matrix\n",
        "    of values.\n",
        "    \n",
        "    params:\n",
        "    image_file = str\n",
        "    grays = Boolean\n",
        "    \n",
        "    returns:\n",
        "    img = (color) np.ndarray[np.ndarray[np.ndarray[float]]] \n",
        "    or (grayscale) np.ndarray[np.ndarray[float]]\n",
        "    \"\"\"\n",
        "    img = image.imread(image_file)\n",
        "    #In case of transparency values\n",
        "    if(len(img.shape) == 3 and img.shape[2] > 3):\n",
        "        height, width, depth = img.shape\n",
        "        new_img = np.zeros([height, width, 3])\n",
        "        for r in range(height):\n",
        "            for c in range(width):\n",
        "                new_img[r,c,:] = img[r,c,0:3]\n",
        "        img = np.copy(new_img)\n",
        "    if(grays and len(img.shape) == 3):\n",
        "        height, width = img.shape[0:2]\n",
        "        new_img = np.zeros([height, width])\n",
        "        for r in range(height):\n",
        "            for c in range(width):\n",
        "                new_img[r,c] = img[r,c,0]\n",
        "        img = new_img\n",
        "    #Clean up zeros\n",
        "    if(len(img.shape) == 2):\n",
        "        zeros = np.where(img == 0)[0]\n",
        "        img[zeros] += 1e-7\n",
        "    return img\n",
        "\n",
        "def matrix_to_image(image_matrix, image_file):\n",
        "    \"\"\"\n",
        "    Convert matrix of color/grayscale \n",
        "    values  to .png image\n",
        "    and save to file.\n",
        "    \n",
        "    params:\n",
        "    image_matrix = (color) numpy.ndarray[numpy.ndarray[numpy.ndarray[float]]] or (grayscale) numpy.ndarray[numpy.ndarray[float]]\n",
        "    image_file = str\n",
        "    \"\"\"\n",
        "    #Provide cmap to grayscale images\n",
        "    cMap = None\n",
        "    if(len(image_matrix.shape) < 3):\n",
        "        cMap = cm.Greys_r\n",
        "    \n",
        "    image.imsave(image_file, image_matrix, cmap=cMap)\n",
        "    #image.imsave(image_file, image_matrix, cmap=cm.Greys_r)\n",
        "\n",
        "    #If using Google Colab\n",
        "    files.download(image_file)\n",
        "    \n",
        "def image_width(image_matrix):\n",
        "    if(len(image_matrix.shape) == 3):\n",
        "        height, width, depth = image_matrix.shape\n",
        "    else:\n",
        "        height, width = image_matrix.shape\n",
        "    return width\n",
        "    \n",
        "def flatten_image_matrix(image_matrix):\n",
        "    \"\"\"\n",
        "    Flatten image matrix from \n",
        "    Height by Width by Depth\n",
        "    to (Height*Width) by Depth\n",
        "    matrix.\n",
        "    \n",
        "    params:\n",
        "    image_matrix = (color) numpy.ndarray[numpy.ndarray[numpy.ndarray[float]]] or (grayscale) numpy.ndarray[numpy.ndarray[float]]\n",
        "    \n",
        "    returns:\n",
        "    flattened_values = (color) numpy.ndarray[numpy.ndarray[float]] or (grayscale) numpy.ndarray[float]    \n",
        "    \"\"\"\n",
        "    if(len(image_matrix.shape) == 3):\n",
        "        height, width, depth = image_matrix.shape\n",
        "    else:\n",
        "        height, width = image_matrix.shape\n",
        "        depth = 1\n",
        "    flattened_values = np.zeros([height*width,depth])\n",
        "    for i, r in enumerate(image_matrix):\n",
        "        for j, c in enumerate(r):\n",
        "            flattened_values[i*width+j,:] = c\n",
        "    return flattened_values\n",
        "\n",
        "def unflatten_image_matrix(image_matrix, width):\n",
        "    \"\"\"\n",
        "    Unflatten image matrix from\n",
        "    (Height*Width) by Depth to\n",
        "    Height by Width by Depth matrix.\n",
        "    \n",
        "    params:\n",
        "    image_matrix = (color) numpy.ndarray[numpy.ndarray[float]] or (grayscale) numpy.ndarray[float]\n",
        "    width = int\n",
        "    \n",
        "    returns:\n",
        "    unflattened_values = (color) numpy.ndarray[numpy.ndarray[numpy.ndarray[float]]] or (grayscale) numpy.ndarray[numpy.ndarray[float]]\n",
        "    \"\"\"\n",
        "    heightWidth = image_matrix.shape[0]\n",
        "    height = int(heightWidth / width)\n",
        "    if(len(image_matrix.shape) > 1):\n",
        "        depth = image_matrix.shape[-1]\n",
        "        unflattened_values = np.zeros([height, width, depth])\n",
        "        for i in range(height):\n",
        "            for j in range(width):\n",
        "                unflattened_values[i,j,:] = image_matrix[i*width+j,:]\n",
        "    else:\n",
        "        depth = 1\n",
        "        unflattened_values = np.zeros([height, width])\n",
        "        for i in range(height):\n",
        "            for j in range(width):\n",
        "                unflattened_values[i,j] = image_matrix[i*width+j]\n",
        "    return unflattened_values\n",
        "\n",
        "def image_difference(image_values_1, image_values_2):\n",
        "    \"\"\"\n",
        "    Calculate the total difference \n",
        "    in values between two images.\n",
        "    Assumes that both images have same\n",
        "    shape.\n",
        "    \n",
        "    params:\n",
        "    image_values_1 = (color) numpy.ndarray[numpy.ndarray[numpy.ndarray[float]]] or (grayscale) numpy.ndarray[numpy.ndarray[float]]\n",
        "    image_values_2 = (color) numpy.ndarray[numpy.ndarray[numpy.ndarray[float]]] or (grayscale) numpy.ndarray[numpy.ndarray[float]]\n",
        "    \n",
        "    returns:\n",
        "    dist = int\n",
        "    \"\"\"\n",
        "    flat_vals_1 = flatten_image_matrix(image_values_1)\n",
        "    flat_vals_2 = flatten_image_matrix(image_values_2)\n",
        "    N, depth = flat_vals_1.shape\n",
        "    dist = 0.\n",
        "    point_thresh = 0.005\n",
        "    for i in range(N):\n",
        "        if(depth > 1):\n",
        "            new_dist = sum(abs(flat_vals_1[i] - flat_vals_2[i]))\n",
        "            if(new_dist > depth * point_thresh):\n",
        "                dist += new_dist\n",
        "        else:\n",
        "            new_dist = abs(flat_vals_1[i] - flat_vals_2[i])\n",
        "            if(new_dist > point_thresh):\n",
        "                dist += new_dist\n",
        "    return dist\n",
        "\n"
      ],
      "execution_count": 19,
      "outputs": []
    },
    {
      "cell_type": "markdown",
      "metadata": {
        "id": "kwn4M5T2dfhR"
      },
      "source": [
        "Plot of image RGB Values"
      ]
    },
    {
      "cell_type": "code",
      "metadata": {
        "colab": {
          "base_uri": "https://localhost:8080/",
          "height": 608
        },
        "id": "569OvapJT2bP",
        "outputId": "73a4ba6d-f154-45f2-ad0b-8b32b4039b5c"
      },
      "source": [
        "#Plot RGB values of pixels\n",
        "from mpl_toolkits.mplot3d import Axes3D\n",
        "import matplotlib.pyplot as plt\n",
        "\n",
        "def plot_RGB(image_name):\n",
        "  image_values = image_to_matrix(image_name)\n",
        "  flat_image = flatten_image_matrix(image_values)\n",
        "  R = flat_image[:,0]\n",
        "  G = flat_image[:,1]\n",
        "  B = flat_image[:,2]\n",
        "\n",
        "  fig = plt.figure(figsize=(14,10))\n",
        "  ax = fig.add_subplot(111, projection='3d')\n",
        "\n",
        "  R = flat_image[:,0]\n",
        "  G = flat_image[:,1]\n",
        "  B = flat_image[:,2]\n",
        "\n",
        "  ax.scatter(R, G, B, c='r', marker='o')\n",
        "  ax.title.set_text('Pixel RGB Values')\n",
        "  ax.set_xlabel('Red')\n",
        "  ax.set_ylabel('Blue')\n",
        "  ax.set_zlabel('Green')\n",
        "\n",
        "  plt.show()\n",
        "\n",
        "image_name = input(\"Enter the file name of an image: \")\n",
        "plot_RGB(image_name)"
      ],
      "execution_count": 21,
      "outputs": [
        {
          "name": "stdout",
          "output_type": "stream",
          "text": [
            "Enter the file name of an image: embiid_gmm.png\n"
          ]
        },
        {
          "output_type": "display_data",
          "data": {
            "text/plain": [
              "<Figure size 1008x720 with 1 Axes>"
            ],
            "image/png": "[encoded data removed]"
          },
          "metadata": {
            "needs_background": "light"
          }
        }
      ]
    },
    {
      "cell_type": "markdown",
      "metadata": {
        "id": "bbSp0pkjR1Xf"
      },
      "source": [
        "Manual implementation of k-means clustering algortihm"
      ]
    },
    {
      "cell_type": "code",
      "metadata": {
        "id": "yCbmN0FOR4QA"
      },
      "source": [
        "from random import randint\n",
        "from math import sqrt\n",
        "from functools import reduce\n",
        "import pandas as pd\n",
        "\n",
        "def k_means_cluster(image_values, k, iterations):\n",
        "    \"\"\"\n",
        "    Separate the provided RGB values into\n",
        "    k separate clusters using the k-means algorithm,\n",
        "    then return an updated version of the image\n",
        "    with the original values replaced with\n",
        "    the corresponding cluster values.\n",
        "    \n",
        "    params:\n",
        "    image_values = numpy.ndarray[numpy.ndarray[numpy.ndarray[float]]]\n",
        "    k = int\n",
        "    initial_means = numpy.ndarray[numpy.ndarray[float]] or None\n",
        "    \n",
        "    returns:\n",
        "    updated_image_values = numpy.ndarray[numpy.ndarray[numpy.ndarray[float]]]\n",
        "    \"\"\"\n",
        "  \n",
        "    def calc_distance(pix,clustMean):\n",
        "      \"\"\"\n",
        "      Returns Euclidean distance between 2 points\n",
        "      \n",
        "      params:\n",
        "      pix = [float,float,float]\n",
        "      clustMean = [float,float,float]\n",
        "\n",
        "      returns:\n",
        "      d = float\n",
        "      \"\"\"\n",
        "      d = sqrt( (pix[0]-clustMean[0])*(pix[0]-clustMean[0]) + (pix[1]-clustMean[1])*(pix[1]-clustMean[1]) + (pix[2]-clustMean[2])*(pix[2]-clustMean[2]) )    \n",
        "      return d\n",
        "  \n",
        "    def assign_clusters(centroids, pixels):\n",
        "      clusters = []\n",
        "      \"\"\"\n",
        "      Assigns pixels to a cluster      \n",
        "\n",
        "      params:\n",
        "      centroids = numpy.ndarray[numpy.ndarray[float]]\n",
        "      pixels = numpy.ndarray[numpy.ndarray[numpy.ndarray[float]]\n",
        "      \n",
        "      returns:\n",
        "      clusters = list(int)\n",
        "      \"\"\"\n",
        "      \n",
        "      for i in range(pixels.shape[0]):\n",
        "          distances = []\n",
        "          for centroid in centroids:\n",
        "              distances.append(calc_distance(centroid, \n",
        "                                            pixels[i]))\n",
        "          cluster = [z for z, val in enumerate(distances) if val==min(distances)]\n",
        "          clusters.append(cluster[0])\n",
        "      return clusters\n",
        "\n",
        "    def calc_centroids(clusters, pixels):\n",
        "      \"\"\"\n",
        "      Calculates centroid(mean) of a cluster   \n",
        "\n",
        "      params:\n",
        "      cluster = numpy.ndarray[int]\n",
        "      pixels = numpy.ndarray[numpy.ndarray[numpy.ndarray[float]]\n",
        "      \n",
        "      returns:\n",
        "      new_centroids = list([numpy.ndarray[float]])\n",
        "      \"\"\"\n",
        "      new_centroids = []\n",
        "      cluster_df = pd.concat([pd.DataFrame(pixels),\n",
        "                              pd.DataFrame(clusters, \n",
        "                                          columns=['cluster'])], \n",
        "                            axis=1)\n",
        "      for c in set(cluster_df['cluster']):\n",
        "          current_cluster = cluster_df[cluster_df['cluster']\\\n",
        "                                      ==c][cluster_df.columns[:-1]]\n",
        "          cluster_mean = current_cluster.mean(axis=0)\n",
        "          new_centroids.append(cluster_mean)\n",
        "      new_centroids = np.array(new_centroids)\n",
        "      return new_centroids  \n",
        "\n",
        "    # Flatten the image matrix\n",
        "    imHeight,imWidth,imDep = np.shape(image_values)\n",
        "    flat_image = flatten_image_matrix(image_values)\n",
        "    numPix, rgbdim = np.shape(flat_image)    \n",
        "    updated_image_values = np.copy(flat_image)\n",
        "\n",
        "    #Choose unique random pixels as initial centroids\n",
        "    number_of_rows = updated_image_values.shape[0]\n",
        "\n",
        "    #Generate initial centroids until they are unique\n",
        "    while True:\n",
        "      random_indices = np.random.choice(number_of_rows, size=k, replace=True)\n",
        "      centroids = updated_image_values[random_indices, :]\n",
        "      unique_centroids = np.unique(centroids, axis=0)\n",
        "      #break and continue with program if k unique centroids exist\n",
        "      if (len(unique_centroids) == k):\n",
        "        break\n",
        "\n",
        "    #Assign initial clusters\n",
        "    clusters = assign_clusters(centroids, updated_image_values)\n",
        "    clusters = np.array(clusters)\n",
        "\n",
        "    #Update clusters\n",
        "    for i in range(iterations):\n",
        "      #update centroids\n",
        "      centroids = calc_centroids(clusters, updated_image_values)\n",
        "      #update clusters\n",
        "      clusters = assign_clusters(centroids, updated_image_values)   \n",
        "\n",
        "    #Change value of each pixel to that of its clusters mean\n",
        "    score = 0\n",
        "    for i in range(len(updated_image_values)):\n",
        "      for value in np.arange(len(centroids)):\n",
        "        if clusters[i] == value:\n",
        "          score = score + calc_distance(updated_image_values[i], centroids[value])\n",
        "          updated_image_values[i] = centroids[value]\n",
        "\n",
        "    #Unflatten the image matrix with the updated values.\n",
        "    updated_image_values_sqr = unflatten_image_matrix(updated_image_values,imWidth)\n",
        "\n",
        "    #Return the unflattened matrix.\n",
        "    return updated_image_values_sqr, score\n"
      ],
      "execution_count": 22,
      "outputs": []
    },
    {
      "cell_type": "markdown",
      "metadata": {
        "id": "yS3cP3xDdWuK"
      },
      "source": [
        "Function to run k-means clustering algorithm"
      ]
    },
    {
      "cell_type": "code",
      "metadata": {
        "id": "S9aM-1_vYZ7g",
        "colab": {
          "base_uri": "https://localhost:8080/",
          "height": 86
        },
        "outputId": "797ec066-8acc-4f14-e447-ac1c06074c22"
      },
      "source": [
        "def k_means_run(image, k, iterations):\n",
        "    \"\"\"\n",
        "    Testing your implementation\n",
        "    of k-means on the segmented\n",
        "    reference images.\n",
        "\n",
        "    params:\n",
        "    k = number of clusters \n",
        "    \"\"\"\n",
        "    #Convert image to RGB matrix\n",
        "    image_values = image_to_matrix(image_name)\n",
        "\n",
        "    #Call k-means.\n",
        "    updated_values, score = k_means_cluster(image_values, k, iterations)\n",
        "    \n",
        "    #Convert the output pixels from matrix to image. Save the output image.\n",
        "    ref_image = 'k%d_%s'%(k, image_name)\n",
        "    matrix_to_image(updated_values, ref_image)\n",
        "\n",
        "    #Return score of clustering (for elbow curve)\n",
        "    return score\n",
        "\n",
        "image_name = input(\"Enter the file name of an image: \")\n",
        "starting_k = input(\"Enter a starting k value: \")\n",
        "starting_k = int(starting_k)\n",
        "ending_k = input(\"Enter an ending k value: \")\n",
        "ending_k = int(ending_k)\n",
        "iterations = input(\"Enter how many iterations for the k-means algorithm: \")\n",
        "\n",
        "for k in np.arange(starting_k,ending_k+1):\n",
        "  k_means_run(image_name, k=k, iterations = 5)"
      ],
      "execution_count": 25,
      "outputs": [
        {
          "name": "stdout",
          "output_type": "stream",
          "text": [
            "Enter the file name of an image: embiid_kmeans.png\n",
            "Enter a starting k value: 2\n",
            "Enter an ending k value: 3\n",
            "Enter how many iterations for the k-means algorithm: 1\n"
          ]
        },
        {
          "output_type": "display_data",
          "data": {
            "text/plain": [
              "<IPython.core.display.Javascript object>"
            ],
            "application/javascript": [
              "\n",
              "    async function download(id, filename, size) {\n",
              "      if (!google.colab.kernel.accessAllowed) {\n",
              "        return;\n",
              "      }\n",
              "      const div = document.createElement('div');\n",
              "      const label = document.createElement('label');\n",
              "      label.textContent = `Downloading \"${filename}\": `;\n",
              "      div.appendChild(label);\n",
              "      const progress = document.createElement('progress');\n",
              "      progress.max = size;\n",
              "      div.appendChild(progress);\n",
              "      document.body.appendChild(div);\n",
              "\n",
              "      const buffers = [];\n",
              "      let downloaded = 0;\n",
              "\n",
              "      const channel = await google.colab.kernel.comms.open(id);\n",
              "      // Send a message to notify the kernel that we're ready.\n",
              "      channel.send({})\n",
              "\n",
              "      for await (const message of channel.messages) {\n",
              "        // Send a message to notify the kernel that we're ready.\n",
              "        channel.send({})\n",
              "        if (message.buffers) {\n",
              "          for (const buffer of message.buffers) {\n",
              "            buffers.push(buffer);\n",
              "            downloaded += buffer.byteLength;\n",
              "            progress.value = downloaded;\n",
              "          }\n",
              "        }\n",
              "      }\n",
              "      const blob = new Blob(buffers, {type: 'application/binary'});\n",
              "      const a = document.createElement('a');\n",
              "      a.href = window.URL.createObjectURL(blob);\n",
              "      a.download = filename;\n",
              "      div.appendChild(a);\n",
              "      a.click();\n",
              "      div.remove();\n",
              "    }\n",
              "  "
            ]
          },
          "metadata": {}
        },
        {
          "output_type": "display_data",
          "data": {
            "text/plain": [
              "<IPython.core.display.Javascript object>"
            ],
            "application/javascript": [
              "download(\"download_9e380028-165d-4a05-926d-cc28de208761\", \"k2_embiid_kmeans.png\", 30324)"
            ]
          },
          "metadata": {}
        },
        {
          "output_type": "display_data",
          "data": {
            "text/plain": [
              "<IPython.core.display.Javascript object>"
            ],
            "application/javascript": [
              "\n",
              "    async function download(id, filename, size) {\n",
              "      if (!google.colab.kernel.accessAllowed) {\n",
              "        return;\n",
              "      }\n",
              "      const div = document.createElement('div');\n",
              "      const label = document.createElement('label');\n",
              "      label.textContent = `Downloading \"${filename}\": `;\n",
              "      div.appendChild(label);\n",
              "      const progress = document.createElement('progress');\n",
              "      progress.max = size;\n",
              "      div.appendChild(progress);\n",
              "      document.body.appendChild(div);\n",
              "\n",
              "      const buffers = [];\n",
              "      let downloaded = 0;\n",
              "\n",
              "      const channel = await google.colab.kernel.comms.open(id);\n",
              "      // Send a message to notify the kernel that we're ready.\n",
              "      channel.send({})\n",
              "\n",
              "      for await (const message of channel.messages) {\n",
              "        // Send a message to notify the kernel that we're ready.\n",
              "        channel.send({})\n",
              "        if (message.buffers) {\n",
              "          for (const buffer of message.buffers) {\n",
              "            buffers.push(buffer);\n",
              "            downloaded += buffer.byteLength;\n",
              "            progress.value = downloaded;\n",
              "          }\n",
              "        }\n",
              "      }\n",
              "      const blob = new Blob(buffers, {type: 'application/binary'});\n",
              "      const a = document.createElement('a');\n",
              "      a.href = window.URL.createObjectURL(blob);\n",
              "      a.download = filename;\n",
              "      div.appendChild(a);\n",
              "      a.click();\n",
              "      div.remove();\n",
              "    }\n",
              "  "
            ]
          },
          "metadata": {}
        },
        {
          "output_type": "display_data",
          "data": {
            "text/plain": [
              "<IPython.core.display.Javascript object>"
            ],
            "application/javascript": [
              "download(\"download_34d53bc6-73ee-427f-8d1f-48980a40ab50\", \"k3_embiid_kmeans.png\", 33122)"
            ]
          },
          "metadata": {}
        }
      ]
    },
    {
      "cell_type": "markdown",
      "metadata": {
        "id": "YJGJ-MMLfgM-"
      },
      "source": [
        "Elbow curve for manual K-Means to identify the number of clusters that should be used to adequately represent the image.\n"
      ]
    },
    {
      "cell_type": "code",
      "metadata": {
        "colab": {
          "base_uri": "https://localhost:8080/",
          "height": 312
        },
        "id": "2F-hG7icQTVR",
        "outputId": "a528a360-bba6-425d-dd6c-906fe4b799cd"
      },
      "source": [
        "#Elbow curve to evalute k-means clusters\n",
        "image_name = input(\"Enter the file name of an image: \")\n",
        "scores = []\n",
        "clusters_array = np.arange(2,7)\n",
        "\n",
        "for k in clusters_array:\n",
        "  scores.append(k_means_run(image_name, k=k, iterations = 3))\n",
        "\n",
        "scores_array = np.array(scores)\n",
        "\n",
        "plt.figure()\n",
        "plt.plot(clusters_array,scores)\n",
        "plt.title('Elbow Curve')\n",
        "plt.xlabel('Number of Clusters')\n",
        "plt.ylabel('Score')\n",
        "plt.show()"
      ],
      "execution_count": 28,
      "outputs": [
        {
          "name": "stdout",
          "output_type": "stream",
          "text": [
            "Enter the file name of an image: embiid_kmeans.png\n"
          ]
        },
        {
          "output_type": "display_data",
          "data": {
            "text/plain": [
              "<IPython.core.display.Javascript object>"
            ],
            "application/javascript": [
              "\n",
              "    async function download(id, filename, size) {\n",
              "      if (!google.colab.kernel.accessAllowed) {\n",
              "        return;\n",
              "      }\n",
              "      const div = document.createElement('div');\n",
              "      const label = document.createElement('label');\n",
              "      label.textContent = `Downloading \"${filename}\": `;\n",
              "      div.appendChild(label);\n",
              "      const progress = document.createElement('progress');\n",
              "      progress.max = size;\n",
              "      div.appendChild(progress);\n",
              "      document.body.appendChild(div);\n",
              "\n",
              "      const buffers = [];\n",
              "      let downloaded = 0;\n",
              "\n",
              "      const channel = await google.colab.kernel.comms.open(id);\n",
              "      // Send a message to notify the kernel that we're ready.\n",
              "      channel.send({})\n",
              "\n",
              "      for await (const message of channel.messages) {\n",
              "        // Send a message to notify the kernel that we're ready.\n",
              "        channel.send({})\n",
              "        if (message.buffers) {\n",
              "          for (const buffer of message.buffers) {\n",
              "            buffers.push(buffer);\n",
              "            downloaded += buffer.byteLength;\n",
              "            progress.value = downloaded;\n",
              "          }\n",
              "        }\n",
              "      }\n",
              "      const blob = new Blob(buffers, {type: 'application/binary'});\n",
              "      const a = document.createElement('a');\n",
              "      a.href = window.URL.createObjectURL(blob);\n",
              "      a.download = filename;\n",
              "      div.appendChild(a);\n",
              "      a.click();\n",
              "      div.remove();\n",
              "    }\n",
              "  "
            ]
          },
          "metadata": {}
        },
        {
          "output_type": "display_data",
          "data": {
            "text/plain": [
              "<IPython.core.display.Javascript object>"
            ],
            "application/javascript": [
              "download(\"download_23598ee3-eedb-4ebe-b93f-dbdb5605b40b\", \"k2_embiid_kmeans.png\", 25337)"
            ]
          },
          "metadata": {}
        },
        {
          "output_type": "display_data",
          "data": {
            "text/plain": [
              "<IPython.core.display.Javascript object>"
            ],
            "application/javascript": [
              "\n",
              "    async function download(id, filename, size) {\n",
              "      if (!google.colab.kernel.accessAllowed) {\n",
              "        return;\n",
              "      }\n",
              "      const div = document.createElement('div');\n",
              "      const label = document.createElement('label');\n",
              "      label.textContent = `Downloading \"${filename}\": `;\n",
              "      div.appendChild(label);\n",
              "      const progress = document.createElement('progress');\n",
              "      progress.max = size;\n",
              "      div.appendChild(progress);\n",
              "      document.body.appendChild(div);\n",
              "\n",
              "      const buffers = [];\n",
              "      let downloaded = 0;\n",
              "\n",
              "      const channel = await google.colab.kernel.comms.open(id);\n",
              "      // Send a message to notify the kernel that we're ready.\n",
              "      channel.send({})\n",
              "\n",
              "      for await (const message of channel.messages) {\n",
              "        // Send a message to notify the kernel that we're ready.\n",
              "        channel.send({})\n",
              "        if (message.buffers) {\n",
              "          for (const buffer of message.buffers) {\n",
              "            buffers.push(buffer);\n",
              "            downloaded += buffer.byteLength;\n",
              "            progress.value = downloaded;\n",
              "          }\n",
              "        }\n",
              "      }\n",
              "      const blob = new Blob(buffers, {type: 'application/binary'});\n",
              "      const a = document.createElement('a');\n",
              "      a.href = window.URL.createObjectURL(blob);\n",
              "      a.download = filename;\n",
              "      div.appendChild(a);\n",
              "      a.click();\n",
              "      div.remove();\n",
              "    }\n",
              "  "
            ]
          },
          "metadata": {}
        },
        {
          "output_type": "display_data",
          "data": {
            "text/plain": [
              "<IPython.core.display.Javascript object>"
            ],
            "application/javascript": [
              "download(\"download_37968e00-2662-42e4-9a04-9b147e3d4230\", \"k3_embiid_kmeans.png\", 33415)"
            ]
          },
          "metadata": {}
        },
        {
          "output_type": "display_data",
          "data": {
            "text/plain": [
              "<IPython.core.display.Javascript object>"
            ],
            "application/javascript": [
              "\n",
              "    async function download(id, filename, size) {\n",
              "      if (!google.colab.kernel.accessAllowed) {\n",
              "        return;\n",
              "      }\n",
              "      const div = document.createElement('div');\n",
              "      const label = document.createElement('label');\n",
              "      label.textContent = `Downloading \"${filename}\": `;\n",
              "      div.appendChild(label);\n",
              "      const progress = document.createElement('progress');\n",
              "      progress.max = size;\n",
              "      div.appendChild(progress);\n",
              "      document.body.appendChild(div);\n",
              "\n",
              "      const buffers = [];\n",
              "      let downloaded = 0;\n",
              "\n",
              "      const channel = await google.colab.kernel.comms.open(id);\n",
              "      // Send a message to notify the kernel that we're ready.\n",
              "      channel.send({})\n",
              "\n",
              "      for await (const message of channel.messages) {\n",
              "        // Send a message to notify the kernel that we're ready.\n",
              "        channel.send({})\n",
              "        if (message.buffers) {\n",
              "          for (const buffer of message.buffers) {\n",
              "            buffers.push(buffer);\n",
              "            downloaded += buffer.byteLength;\n",
              "            progress.value = downloaded;\n",
              "          }\n",
              "        }\n",
              "      }\n",
              "      const blob = new Blob(buffers, {type: 'application/binary'});\n",
              "      const a = document.createElement('a');\n",
              "      a.href = window.URL.createObjectURL(blob);\n",
              "      a.download = filename;\n",
              "      div.appendChild(a);\n",
              "      a.click();\n",
              "      div.remove();\n",
              "    }\n",
              "  "
            ]
          },
          "metadata": {}
        },
        {
          "output_type": "display_data",
          "data": {
            "text/plain": [
              "<IPython.core.display.Javascript object>"
            ],
            "application/javascript": [
              "download(\"download_6216e6e2-1c1c-4440-89dc-ec04f1182c36\", \"k4_embiid_kmeans.png\", 43483)"
            ]
          },
          "metadata": {}
        },
        {
          "output_type": "display_data",
          "data": {
            "text/plain": [
              "<IPython.core.display.Javascript object>"
            ],
            "application/javascript": [
              "\n",
              "    async function download(id, filename, size) {\n",
              "      if (!google.colab.kernel.accessAllowed) {\n",
              "        return;\n",
              "      }\n",
              "      const div = document.createElement('div');\n",
              "      const label = document.createElement('label');\n",
              "      label.textContent = `Downloading \"${filename}\": `;\n",
              "      div.appendChild(label);\n",
              "      const progress = document.createElement('progress');\n",
              "      progress.max = size;\n",
              "      div.appendChild(progress);\n",
              "      document.body.appendChild(div);\n",
              "\n",
              "      const buffers = [];\n",
              "      let downloaded = 0;\n",
              "\n",
              "      const channel = await google.colab.kernel.comms.open(id);\n",
              "      // Send a message to notify the kernel that we're ready.\n",
              "      channel.send({})\n",
              "\n",
              "      for await (const message of channel.messages) {\n",
              "        // Send a message to notify the kernel that we're ready.\n",
              "        channel.send({})\n",
              "        if (message.buffers) {\n",
              "          for (const buffer of message.buffers) {\n",
              "            buffers.push(buffer);\n",
              "            downloaded += buffer.byteLength;\n",
              "            progress.value = downloaded;\n",
              "          }\n",
              "        }\n",
              "      }\n",
              "      const blob = new Blob(buffers, {type: 'application/binary'});\n",
              "      const a = document.createElement('a');\n",
              "      a.href = window.URL.createObjectURL(blob);\n",
              "      a.download = filename;\n",
              "      div.appendChild(a);\n",
              "      a.click();\n",
              "      div.remove();\n",
              "    }\n",
              "  "
            ]
          },
          "metadata": {}
        },
        {
          "output_type": "display_data",
          "data": {
            "text/plain": [
              "<IPython.core.display.Javascript object>"
            ],
            "application/javascript": [
              "download(\"download_f755c070-2059-4128-8031-4f617db78318\", \"k5_embiid_kmeans.png\", 48567)"
            ]
          },
          "metadata": {}
        },
        {
          "output_type": "display_data",
          "data": {
            "text/plain": [
              "<IPython.core.display.Javascript object>"
            ],
            "application/javascript": [
              "\n",
              "    async function download(id, filename, size) {\n",
              "      if (!google.colab.kernel.accessAllowed) {\n",
              "        return;\n",
              "      }\n",
              "      const div = document.createElement('div');\n",
              "      const label = document.createElement('label');\n",
              "      label.textContent = `Downloading \"${filename}\": `;\n",
              "      div.appendChild(label);\n",
              "      const progress = document.createElement('progress');\n",
              "      progress.max = size;\n",
              "      div.appendChild(progress);\n",
              "      document.body.appendChild(div);\n",
              "\n",
              "      const buffers = [];\n",
              "      let downloaded = 0;\n",
              "\n",
              "      const channel = await google.colab.kernel.comms.open(id);\n",
              "      // Send a message to notify the kernel that we're ready.\n",
              "      channel.send({})\n",
              "\n",
              "      for await (const message of channel.messages) {\n",
              "        // Send a message to notify the kernel that we're ready.\n",
              "        channel.send({})\n",
              "        if (message.buffers) {\n",
              "          for (const buffer of message.buffers) {\n",
              "            buffers.push(buffer);\n",
              "            downloaded += buffer.byteLength;\n",
              "            progress.value = downloaded;\n",
              "          }\n",
              "        }\n",
              "      }\n",
              "      const blob = new Blob(buffers, {type: 'application/binary'});\n",
              "      const a = document.createElement('a');\n",
              "      a.href = window.URL.createObjectURL(blob);\n",
              "      a.download = filename;\n",
              "      div.appendChild(a);\n",
              "      a.click();\n",
              "      div.remove();\n",
              "    }\n",
              "  "
            ]
          },
          "metadata": {}
        },
        {
          "output_type": "display_data",
          "data": {
            "text/plain": [
              "<IPython.core.display.Javascript object>"
            ],
            "application/javascript": [
              "download(\"download_c4e29523-a589-4ed1-b362-e6f165a04c4f\", \"k6_embiid_kmeans.png\", 62854)"
            ]
          },
          "metadata": {}
        },
        {
          "output_type": "display_data",
          "data": {
            "text/plain": [
              "<Figure size 432x288 with 1 Axes>"
            ],
            "image/png": "[encoded data removed]"
          },
          "metadata": {
            "needs_background": "light"
          }
        }
      ]
    },
    {
      "cell_type": "markdown",
      "metadata": {
        "id": "IMeL8c9cdnHa"
      },
      "source": [
        "Implementation of k-means using scikit-learn library"
      ]
    },
    {
      "cell_type": "code",
      "metadata": {
        "colab": {
          "base_uri": "https://localhost:8080/",
          "height": 69
        },
        "id": "HgTfBmDTaV7j",
        "outputId": "dd55628d-dc02-46c3-cc70-1f66eb42382e"
      },
      "source": [
        "from sklearn.cluster import KMeans\n",
        "def scikit_KMeans(image, k):\n",
        "  #Number of clusters\n",
        "  numClusters = k\n",
        "\n",
        "  #Prepare pixel data by flattening image matrix\n",
        "  image_values = image_to_matrix(image)\n",
        "  imHeight,imWidth,imDep = np.shape(image_values)\n",
        "  flat_image = flatten_image_matrix(image_values)\n",
        "  updated_image_values = np.copy(flat_image)\n",
        "\n",
        "  #Call scikit k-means\n",
        "  kmeans = KMeans(n_clusters= k, random_state=0).fit(updated_image_values)\n",
        "\n",
        "  #Change color of each pixel to that of its clusters mean\n",
        "  for i in range(len(updated_image_values)):\n",
        "    for value in np.arange(len(kmeans.cluster_centers_)):\n",
        "      if kmeans.labels_[i] == value:\n",
        "        updated_image_values[i] = kmeans.cluster_centers_[value]\n",
        "\n",
        "  #Unflatten the image matrix\n",
        "  updated_image_values_sqr = unflatten_image_matrix(updated_image_values,imWidth)\n",
        "\n",
        "  #Save the output image\n",
        "  ref_image = 'k%d_%s'%(k, image)\n",
        "  matrix_to_image(updated_image_values_sqr, ref_image)\n",
        "\n",
        "#Run k-means\n",
        "image_name = input(\"Enter the file name of an image: \")\n",
        "starting_k = input(\"Enter a starting k value: \")\n",
        "starting_k = int(starting_k)\n",
        "ending_k = input(\"Enter an ending k value: \")\n",
        "ending_k = int(ending_k)\n",
        "for k in np.arange(starting_k,ending_k+1):\n",
        "  scikit_KMeans(image_name, k)"
      ],
      "execution_count": 33,
      "outputs": [
        {
          "name": "stdout",
          "output_type": "stream",
          "text": [
            "Enter the file name of an image: embiid_scikit_kmeans.png\n",
            "Enter a starting k value: 2\n",
            "Enter an ending k value: 3\n"
          ]
        },
        {
          "output_type": "display_data",
          "data": {
            "text/plain": [
              "<IPython.core.display.Javascript object>"
            ],
            "application/javascript": [
              "\n",
              "    async function download(id, filename, size) {\n",
              "      if (!google.colab.kernel.accessAllowed) {\n",
              "        return;\n",
              "      }\n",
              "      const div = document.createElement('div');\n",
              "      const label = document.createElement('label');\n",
              "      label.textContent = `Downloading \"${filename}\": `;\n",
              "      div.appendChild(label);\n",
              "      const progress = document.createElement('progress');\n",
              "      progress.max = size;\n",
              "      div.appendChild(progress);\n",
              "      document.body.appendChild(div);\n",
              "\n",
              "      const buffers = [];\n",
              "      let downloaded = 0;\n",
              "\n",
              "      const channel = await google.colab.kernel.comms.open(id);\n",
              "      // Send a message to notify the kernel that we're ready.\n",
              "      channel.send({})\n",
              "\n",
              "      for await (const message of channel.messages) {\n",
              "        // Send a message to notify the kernel that we're ready.\n",
              "        channel.send({})\n",
              "        if (message.buffers) {\n",
              "          for (const buffer of message.buffers) {\n",
              "            buffers.push(buffer);\n",
              "            downloaded += buffer.byteLength;\n",
              "            progress.value = downloaded;\n",
              "          }\n",
              "        }\n",
              "      }\n",
              "      const blob = new Blob(buffers, {type: 'application/binary'});\n",
              "      const a = document.createElement('a');\n",
              "      a.href = window.URL.createObjectURL(blob);\n",
              "      a.download = filename;\n",
              "      div.appendChild(a);\n",
              "      a.click();\n",
              "      div.remove();\n",
              "    }\n",
              "  "
            ]
          },
          "metadata": {}
        },
        {
          "output_type": "display_data",
          "data": {
            "text/plain": [
              "<IPython.core.display.Javascript object>"
            ],
            "application/javascript": [
              "download(\"download_8bc085d3-a938-4ffd-8066-7d39e3c873df\", \"k2_embiid_scikit_kmeans.png\", 14979)"
            ]
          },
          "metadata": {}
        },
        {
          "output_type": "display_data",
          "data": {
            "text/plain": [
              "<IPython.core.display.Javascript object>"
            ],
            "application/javascript": [
              "\n",
              "    async function download(id, filename, size) {\n",
              "      if (!google.colab.kernel.accessAllowed) {\n",
              "        return;\n",
              "      }\n",
              "      const div = document.createElement('div');\n",
              "      const label = document.createElement('label');\n",
              "      label.textContent = `Downloading \"${filename}\": `;\n",
              "      div.appendChild(label);\n",
              "      const progress = document.createElement('progress');\n",
              "      progress.max = size;\n",
              "      div.appendChild(progress);\n",
              "      document.body.appendChild(div);\n",
              "\n",
              "      const buffers = [];\n",
              "      let downloaded = 0;\n",
              "\n",
              "      const channel = await google.colab.kernel.comms.open(id);\n",
              "      // Send a message to notify the kernel that we're ready.\n",
              "      channel.send({})\n",
              "\n",
              "      for await (const message of channel.messages) {\n",
              "        // Send a message to notify the kernel that we're ready.\n",
              "        channel.send({})\n",
              "        if (message.buffers) {\n",
              "          for (const buffer of message.buffers) {\n",
              "            buffers.push(buffer);\n",
              "            downloaded += buffer.byteLength;\n",
              "            progress.value = downloaded;\n",
              "          }\n",
              "        }\n",
              "      }\n",
              "      const blob = new Blob(buffers, {type: 'application/binary'});\n",
              "      const a = document.createElement('a');\n",
              "      a.href = window.URL.createObjectURL(blob);\n",
              "      a.download = filename;\n",
              "      div.appendChild(a);\n",
              "      a.click();\n",
              "      div.remove();\n",
              "    }\n",
              "  "
            ]
          },
          "metadata": {}
        },
        {
          "output_type": "display_data",
          "data": {
            "text/plain": [
              "<IPython.core.display.Javascript object>"
            ],
            "application/javascript": [
              "download(\"download_a9c74a16-7a22-49a2-a3ff-2de7741e0c95\", \"k3_embiid_scikit_kmeans.png\", 33978)"
            ]
          },
          "metadata": {}
        }
      ]
    },
    {
      "cell_type": "markdown",
      "metadata": {
        "id": "bZbdzkDlfdmj"
      },
      "source": [
        "Image segmentation using scikit-learn gaussian mixture models"
      ]
    },
    {
      "cell_type": "code",
      "metadata": {
        "colab": {
          "base_uri": "https://localhost:8080/",
          "height": 69
        },
        "id": "v0_FYbwCJRC3",
        "outputId": "c12f96d1-a856-4bab-826e-a70318a89ec5"
      },
      "source": [
        "from sklearn.mixture import GaussianMixture\n",
        "def scikit_GMM(image, n):\n",
        "  #Set number of clusters\n",
        "  numComponents = n\n",
        "\n",
        "  #Flatten image matrix\n",
        "  image_values = image_to_matrix(image)\n",
        "  imHeight,imWidth,imDep = np.shape(image_values)\n",
        "  flat_image = flatten_image_matrix(image_values)\n",
        "  updated_image_values = np.copy(flat_image)\n",
        "\n",
        "  #Call scikit GMM\n",
        "  gmm = GaussianMixture(n_components=n)\n",
        "  gmm.fit(updated_image_values)\n",
        "  predictions = gmm.predict(updated_image_values)\n",
        "\n",
        "  #Change value of each pixel to that of its clusters mean\n",
        "  for i in range(len(updated_image_values)):\n",
        "    for value in np.arange(len(gmm.means_)):\n",
        "      if predictions[i] == value:\n",
        "        updated_image_values[i] = gmm.means_[value]\n",
        "\n",
        "  #Unflatten the image matrix\n",
        "  updated_image_values_sqr = unflatten_image_matrix(updated_image_values,imWidth)\n",
        "\n",
        "  #Convert the output pixels from matrix to image\n",
        "\n",
        "  #Save the output image\n",
        "  ref_image = 'k%d_%s'%(k, image)\n",
        "  matrix_to_image(updated_image_values_sqr, ref_image)\n",
        "\n",
        "#Run GMM\n",
        "image_name = input(\"Enter the file name of an image: \")\n",
        "starting_k = input(\"Enter a starting k value: \")\n",
        "starting_k = int(starting_k)\n",
        "ending_k = input(\"Enter an ending k value: \")\n",
        "ending_k = int(ending_k)\n",
        "for k in np.arange(starting_k,ending_k+1):\n",
        "  scikit_GMM(image_name,k)"
      ],
      "execution_count": 35,
      "outputs": [
        {
          "name": "stdout",
          "output_type": "stream",
          "text": [
            "Enter the file name of an image: embiid_gmm.png\n",
            "Enter a starting k value: 2\n",
            "Enter an ending k value: 3\n"
          ]
        },
        {
          "output_type": "display_data",
          "data": {
            "text/plain": [
              "<IPython.core.display.Javascript object>"
            ],
            "application/javascript": [
              "\n",
              "    async function download(id, filename, size) {\n",
              "      if (!google.colab.kernel.accessAllowed) {\n",
              "        return;\n",
              "      }\n",
              "      const div = document.createElement('div');\n",
              "      const label = document.createElement('label');\n",
              "      label.textContent = `Downloading \"${filename}\": `;\n",
              "      div.appendChild(label);\n",
              "      const progress = document.createElement('progress');\n",
              "      progress.max = size;\n",
              "      div.appendChild(progress);\n",
              "      document.body.appendChild(div);\n",
              "\n",
              "      const buffers = [];\n",
              "      let downloaded = 0;\n",
              "\n",
              "      const channel = await google.colab.kernel.comms.open(id);\n",
              "      // Send a message to notify the kernel that we're ready.\n",
              "      channel.send({})\n",
              "\n",
              "      for await (const message of channel.messages) {\n",
              "        // Send a message to notify the kernel that we're ready.\n",
              "        channel.send({})\n",
              "        if (message.buffers) {\n",
              "          for (const buffer of message.buffers) {\n",
              "            buffers.push(buffer);\n",
              "            downloaded += buffer.byteLength;\n",
              "            progress.value = downloaded;\n",
              "          }\n",
              "        }\n",
              "      }\n",
              "      const blob = new Blob(buffers, {type: 'application/binary'});\n",
              "      const a = document.createElement('a');\n",
              "      a.href = window.URL.createObjectURL(blob);\n",
              "      a.download = filename;\n",
              "      div.appendChild(a);\n",
              "      a.click();\n",
              "      div.remove();\n",
              "    }\n",
              "  "
            ]
          },
          "metadata": {}
        },
        {
          "output_type": "display_data",
          "data": {
            "text/plain": [
              "<IPython.core.display.Javascript object>"
            ],
            "application/javascript": [
              "download(\"download_ee3d8508-4cc5-459e-96d4-86217bae31e6\", \"k2_embiid_gmm.png\", 22986)"
            ]
          },
          "metadata": {}
        },
        {
          "output_type": "display_data",
          "data": {
            "text/plain": [
              "<IPython.core.display.Javascript object>"
            ],
            "application/javascript": [
              "\n",
              "    async function download(id, filename, size) {\n",
              "      if (!google.colab.kernel.accessAllowed) {\n",
              "        return;\n",
              "      }\n",
              "      const div = document.createElement('div');\n",
              "      const label = document.createElement('label');\n",
              "      label.textContent = `Downloading \"${filename}\": `;\n",
              "      div.appendChild(label);\n",
              "      const progress = document.createElement('progress');\n",
              "      progress.max = size;\n",
              "      div.appendChild(progress);\n",
              "      document.body.appendChild(div);\n",
              "\n",
              "      const buffers = [];\n",
              "      let downloaded = 0;\n",
              "\n",
              "      const channel = await google.colab.kernel.comms.open(id);\n",
              "      // Send a message to notify the kernel that we're ready.\n",
              "      channel.send({})\n",
              "\n",
              "      for await (const message of channel.messages) {\n",
              "        // Send a message to notify the kernel that we're ready.\n",
              "        channel.send({})\n",
              "        if (message.buffers) {\n",
              "          for (const buffer of message.buffers) {\n",
              "            buffers.push(buffer);\n",
              "            downloaded += buffer.byteLength;\n",
              "            progress.value = downloaded;\n",
              "          }\n",
              "        }\n",
              "      }\n",
              "      const blob = new Blob(buffers, {type: 'application/binary'});\n",
              "      const a = document.createElement('a');\n",
              "      a.href = window.URL.createObjectURL(blob);\n",
              "      a.download = filename;\n",
              "      div.appendChild(a);\n",
              "      a.click();\n",
              "      div.remove();\n",
              "    }\n",
              "  "
            ]
          },
          "metadata": {}
        },
        {
          "output_type": "display_data",
          "data": {
            "text/plain": [
              "<IPython.core.display.Javascript object>"
            ],
            "application/javascript": [
              "download(\"download_bd2f1c7c-140c-4f4a-88cf-6efb256e1ea8\", \"k3_embiid_gmm.png\", 41320)"
            ]
          },
          "metadata": {}
        }
      ]
    }
  ]
}
